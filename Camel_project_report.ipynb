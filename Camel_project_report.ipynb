{
 "cells": [
  {
   "cell_type": "markdown",
   "metadata": {},
   "source": [
    "\n"
   ]
  },
  {
   "cell_type": "markdown",
   "metadata": {},
   "source": [
    "# Load libraries"
   ]
  },
  {
   "cell_type": "code",
   "execution_count": 189,
   "metadata": {},
   "outputs": [],
   "source": [
    "import numpy as np\n",
    "import re\n",
    "import pandas as pd\n",
    "import os\n",
    "from datetime import datetime\n",
    "\n",
    "# Specify git executable file for GitPython in Jupyter Notebook (In IDE, it can still work without this line.)\n",
    "os.environ[\"GIT_PYTHON_GIT_EXECUTABLE\"] = \"C:\\Program Files\\Git\\cmd\\git.exe\"\n",
    "\n",
    "import git\n",
    "from git import RemoteProgress\n",
    "\n",
    "from git import Repo\n",
    "import matplotlib.pyplot as plt\n",
    "import seaborn as sns\n",
    "%matplotlib inline"
   ]
  },
  {
   "cell_type": "markdown",
   "metadata": {},
   "source": [
    "# Clone repo from GitHub"
   ]
  },
  {
   "cell_type": "markdown",
   "metadata": {},
   "source": [
    "Link: https://git-scm.com/docs/git-clone <br>\n",
    "<b>Note:</b> In case too-long file path issue occurs in Windows, set <code>git config --system core.longpaths true</code>"
   ]
  },
  {
   "cell_type": "code",
   "execution_count": 34,
   "metadata": {},
   "outputs": [],
   "source": [
    "class Progress(RemoteProgress):\n",
    "    def update(self, op_code, cur_count, max_count=None, message=''):\n",
    "        print(self._cur_line)"
   ]
  },
  {
   "cell_type": "code",
   "execution_count": 35,
   "metadata": {},
   "outputs": [],
   "source": [
    "remote_link = \"https://github.com/apache/camel\"\n",
    "local_link = \"C:\\\\Secure Software\\\\camel\"\n",
    "# Uncomment to clone\n",
    "# Repo.clone_from(remote_link, local_link, progress=Progress())"
   ]
  },
  {
   "cell_type": "code",
   "execution_count": 308,
   "metadata": {},
   "outputs": [],
   "source": [
    "repo = Repo(local_link)\n",
    "fixing_commit = \"af3f54de35a90a5a49a4af4622e8bd1011bf5ec\"\n",
    "affected_file = \"components-starter/camel-gson-starter/src/main/java/org/apache/camel/component/gson/springboot/GsonDataFormatConfiguration.java\""
   ]
  },
  {
   "cell_type": "markdown",
   "metadata": {},
   "source": [
    "# A) Message and Title of the Fixing Commit\n",
    "Link: https://git-scm.com/docs/git-show\n",
    "You can explore different parameters."
   ]
  },
  {
   "cell_type": "code",
   "execution_count": 328,
   "metadata": {
    "scrolled": true
   },
   "outputs": [
    {
     "name": "stdout",
     "output_type": "stream",
     "text": [
      "Message and title of the commit:\n",
      "    CAMEL-10567: Camel-Jackson: Add an option to allow the UnmarshallType header use. Regenerated code\n"
     ]
    }
   ],
   "source": [
    "show_data = repo.git.show(\"-s\", fixing_commit).splitlines()\n",
    "show_data.reverse()\n",
    "print(\"Message and title of the commit:\")\n",
    "print(show_data[0])"
   ]
  },
  {
   "cell_type": "markdown",
   "metadata": {},
   "source": [
    "# B) Total Files Affected"
   ]
  },
  {
   "cell_type": "code",
   "execution_count": 151,
   "metadata": {},
   "outputs": [
    {
     "name": "stdout",
     "output_type": "stream",
     "text": [
      "Files Afftected:\n",
      " .../gson/springboot/GsonDataFormatConfiguration.java       | 14 ++++++++++++++\n",
      " .../jackson/springboot/JacksonDataFormatConfiguration.java | 14 ++++++++++++++\n",
      " .../johnzon/springboot/JohnzonDataFormatConfiguration.java | 14 ++++++++++++++\n",
      " .../xstream/springboot/JsonDataFormatConfiguration.java    | 14 ++++++++++++++\n",
      " .../camel-gson/src/main/docs/json-gson-dataformat.adoc     |  3 ++-\n",
      " .../src/main/docs/json-jackson-dataformat.adoc             |  3 ++-\n",
      " .../src/main/docs/json-johnzon-dataformat.adoc             |  3 ++-\n",
      " .../src/main/docs/json-xstream-dataformat.adoc             |  3 ++-\n",
      " 8 files changed, 64 insertions(+), 4 deletions(-)\n"
     ]
    }
   ],
   "source": [
    "total_files_affected = repo.git.show(\"--stat\",fixing_commit).splitlines()\n",
    "print(\"Files Afftected:\")\n",
    "total_files_affected = total_files_affected[6:]\n",
    "for line in total_files_affected:\n",
    "    print(line)"
   ]
  },
  {
   "cell_type": "markdown",
   "metadata": {},
   "source": [
    "# C) Total Directories Affected"
   ]
  },
  {
   "cell_type": "code",
   "execution_count": 149,
   "metadata": {},
   "outputs": [
    {
     "name": "stdout",
     "output_type": "stream",
     "text": [
      "Directories Affected:\n",
      "  14.6% components-starter/camel-gson-starter/src/main/java/org/apache/camel/component/gson/springboot/\n",
      "  14.6% components-starter/camel-jackson-starter/src/main/java/org/apache/camel/component/jackson/springboot/\n",
      "  14.6% components-starter/camel-johnzon-starter/src/main/java/org/apache/camel/component/johnzon/springboot/\n",
      "  14.6% components-starter/camel-xstream-starter/src/main/java/org/apache/camel/dataformat/xstream/springboot/\n",
      "  10.3% components/camel-gson/src/main/docs/\n",
      "  10.3% components/camel-jackson/src/main/docs/\n",
      "  10.3% components/camel-johnzon/src/main/docs/\n",
      "  10.3% components/camel-xstream/src/main/docs/\n"
     ]
    }
   ],
   "source": [
    "total_directories_affected = repo.git.show(\"--dirstat\",fixing_commit).splitlines()\n",
    "total_directories_affected = total_directories_affected[6:]\n",
    "print(\"Directories Affected:\")\n",
    "for lines in total_directories_affected:\n",
    "    print(lines)"
   ]
  },
  {
   "cell_type": "markdown",
   "metadata": {},
   "source": [
    "# D) Total lines of code (including comments and blank lines) Deleted"
   ]
  },
  {
   "cell_type": "code",
   "execution_count": 321,
   "metadata": {},
   "outputs": [
    {
     "name": "stdout",
     "output_type": "stream",
     "text": [
      "Total lines of code deleted(including comments and blank lines): 4\n"
     ]
    }
   ],
   "source": [
    "lines_del_inc_comm = repo.git.show(\"--shortstat\",fixing_commit).splitlines()\n",
    "lines_del_inc_comm.reverse()\n",
    "lines_del_inc_comm = lines_del_inc_comm[0].split(',')\n",
    "lines_del_inc_comm = lines_del_inc_comm[2].split(\" \")\n",
    "print(\"Total lines of code deleted(including comments and blank lines): \"+lines_del_inc_comm[1])"
   ]
  },
  {
   "cell_type": "markdown",
   "metadata": {},
   "source": [
    "# E) Total lines of code (including comments and blank lines) Added"
   ]
  },
  {
   "cell_type": "code",
   "execution_count": 325,
   "metadata": {},
   "outputs": [
    {
     "name": "stdout",
     "output_type": "stream",
     "text": [
      "Total lines of code Added(including comments and blank lines): 64\n"
     ]
    }
   ],
   "source": [
    "lines_add_inc_comm = repo.git.show(\"--shortstat\",fixing_commit).splitlines()\n",
    "lines_add_inc_comm.reverse()\n",
    "lines_add_inc_comm = lines_add_inc_comm[0].split(',')\n",
    "lines_add_inc_comm = lines_add_inc_comm[1].split(\" \")\n",
    "print(\"Total lines of code Added(including comments and blank lines): \"+lines_add_inc_comm[1])"
   ]
  },
  {
   "cell_type": "markdown",
   "metadata": {},
   "source": [
    "# F) Total lines of code (excluding comments and blank lines) Deleted"
   ]
  },
  {
   "cell_type": "code",
   "execution_count": 329,
   "metadata": {},
   "outputs": [
    {
     "name": "stdout",
     "output_type": "stream",
     "text": [
      "Total line of code(excluding comments and blank lines) Deleted:0\n"
     ]
    }
   ],
   "source": [
    "lines_del_exc_comm = repo.git.show(\"-U0\",\"--pretty=\"\"\",fixing_commit).splitlines()\n",
    "lines_added = []\n",
    "tot = 0\n",
    "for line in lines_del_exc_comm:\n",
    "    if re.search(\"^\\-\",line):\n",
    "        l = line.split(\" \")\n",
    "        if(len(l)>1):\n",
    "            if(len(l[0]) == 1):\n",
    "                if(l[1][:1] != '*' or l[1][:1] != '/'):\n",
    "                    tot += 1\n",
    "print(\"Total line of code(excluding comments and blank lines) Deleted:\" + str(tot))"
   ]
  },
  {
   "cell_type": "markdown",
   "metadata": {},
   "source": [
    "# G) Total lines of code (excluding comments and blank lines) Added"
   ]
  },
  {
   "cell_type": "code",
   "execution_count": 319,
   "metadata": {},
   "outputs": [
    {
     "name": "stdout",
     "output_type": "stream",
     "text": [
      "Total line of code(excluding comments and blank lines) Added:48\n"
     ]
    }
   ],
   "source": [
    "lines_add_exc_comm = repo.git.show(\"-U0\",\"--pretty=\"\"\",fixing_commit).splitlines()\n",
    "lines_added = []\n",
    "tot = 0\n",
    "for line in lines_add_exc_comm:\n",
    "    if re.search(\"^\\+\",line):\n",
    "        l = line.split(\" \")\n",
    "        if(len(l)>1):\n",
    "            if(len(l[0]) == 1):\n",
    "                if(l[1][:1] != '*' or l[1][:1] != '/'):\n",
    "                    tot += 1\n",
    "print(\"Total line of code(excluding comments and blank lines) Added:\" + str(tot))\n"
   ]
  },
  {
   "cell_type": "markdown",
   "metadata": {},
   "source": [
    "# H) Days between the current fixing commit and the previous commit"
   ]
  },
  {
   "cell_type": "code",
   "execution_count": 302,
   "metadata": {},
   "outputs": [
    {
     "name": "stdout",
     "output_type": "stream",
     "text": [
      "No of days:13 days, 0:39:56\n"
     ]
    }
   ],
   "source": [
    "days = repo.git.log(\"--format=%cd\",fixing_commit,\"--\",affected_file,\"-2\").splitlines()\n",
    "last_commit_date = datetime.strptime(days[0],\"%a %b %d %X %Y %z\")\n",
    "last_prev_commit_date = datetime.strptime(days[1],\"%a %b %d %X %Y %z\")\n",
    "date_diff = (abs(last_commit_date-last_prev_commit_date))\n",
    "print(\"No of days:\" + str(date_diff))"
   ]
  },
  {
   "cell_type": "markdown",
   "metadata": {},
   "source": [
    "# I) No of times each affected file of the current fixing commit been modified in the past since their creation"
   ]
  },
  {
   "cell_type": "code",
   "execution_count": 309,
   "metadata": {},
   "outputs": [
    {
     "name": "stdout",
     "output_type": "stream",
     "text": [
      "No of times each affected file of the current fixing commit been modified in the past since their creation:6\n"
     ]
    }
   ],
   "source": [
    "no_of_times = repo.git.log(\"--follow\",\"--format=%h\",fixing_commit,\"--\",affected_file).splitlines()\n",
    "length = len(no_of_times)\n",
    "print(\"No of times each affected file of the current fixing commit been modified in the past since their creation:\"+ str(length))"
   ]
  },
  {
   "cell_type": "markdown",
   "metadata": {},
   "source": [
    "# J) Developers who has modified each affected file since its creation"
   ]
  },
  {
   "cell_type": "code",
   "execution_count": 310,
   "metadata": {},
   "outputs": [
    {
     "name": "stdout",
     "output_type": "stream",
     "text": [
      "List of Developers:\n",
      "Nicola Ferraro\n",
      "Aurelien Pupier\n",
      "Andrea Cosentino\n",
      "Claus Ibsen\n"
     ]
    }
   ],
   "source": [
    "no_of_times = repo.git.log(\"--format=%an\",fixing_commit,\"--\",affected_file).splitlines()\n",
    "s = set(no_of_times)\n",
    "print(\"List of Developers:\")\n",
    "for line in s:\n",
    "    print(line)"
   ]
  },
  {
   "cell_type": "markdown",
   "metadata": {},
   "source": [
    "# K) Commits of each Developer"
   ]
  },
  {
   "cell_type": "code",
   "execution_count": 314,
   "metadata": {},
   "outputs": [],
   "source": [
    "commit_authors = repo.git.shortlog(\"-sn\", \"--all\").splitlines()\n",
    "author_commits = []\n",
    "\n",
    "for commit_author in commit_authors:\n",
    "    commit, author = commit_author.split(\"\\t\")\n",
    "    for authors in s:\n",
    "        if(authors==author):\n",
    "            author_commits.append((int(commit), authors))"
   ]
  },
  {
   "cell_type": "code",
   "execution_count": 315,
   "metadata": {},
   "outputs": [],
   "source": [
    "df = pd.DataFrame(author_commits, columns=['Commit','Author'])"
   ]
  },
  {
   "cell_type": "code",
   "execution_count": 316,
   "metadata": {},
   "outputs": [
    {
     "data": {
      "text/html": [
       "<div>\n",
       "<style scoped>\n",
       "    .dataframe tbody tr th:only-of-type {\n",
       "        vertical-align: middle;\n",
       "    }\n",
       "\n",
       "    .dataframe tbody tr th {\n",
       "        vertical-align: top;\n",
       "    }\n",
       "\n",
       "    .dataframe thead th {\n",
       "        text-align: right;\n",
       "    }\n",
       "</style>\n",
       "<table border=\"1\" class=\"dataframe\">\n",
       "  <thead>\n",
       "    <tr style=\"text-align: right;\">\n",
       "      <th></th>\n",
       "      <th>Commit</th>\n",
       "      <th>Author</th>\n",
       "    </tr>\n",
       "  </thead>\n",
       "  <tbody>\n",
       "    <tr>\n",
       "      <td>0</td>\n",
       "      <td>19653</td>\n",
       "      <td>Claus Ibsen</td>\n",
       "    </tr>\n",
       "    <tr>\n",
       "      <td>1</td>\n",
       "      <td>7758</td>\n",
       "      <td>Andrea Cosentino</td>\n",
       "    </tr>\n",
       "    <tr>\n",
       "      <td>2</td>\n",
       "      <td>270</td>\n",
       "      <td>Nicola Ferraro</td>\n",
       "    </tr>\n",
       "    <tr>\n",
       "      <td>3</td>\n",
       "      <td>19</td>\n",
       "      <td>Aurelien Pupier</td>\n",
       "    </tr>\n",
       "  </tbody>\n",
       "</table>\n",
       "</div>"
      ],
      "text/plain": [
       "   Commit            Author\n",
       "0   19653       Claus Ibsen\n",
       "1    7758  Andrea Cosentino\n",
       "2     270    Nicola Ferraro\n",
       "3      19   Aurelien Pupier"
      ]
     },
     "execution_count": 316,
     "metadata": {},
     "output_type": "execute_result"
    }
   ],
   "source": [
    "df.head()"
   ]
  }
 ],
 "metadata": {
  "kernelspec": {
   "display_name": "Python 3",
   "language": "python",
   "name": "python3"
  },
  "language_info": {
   "codemirror_mode": {
    "name": "ipython",
    "version": 3
   },
   "file_extension": ".py",
   "mimetype": "text/x-python",
   "name": "python",
   "nbconvert_exporter": "python",
   "pygments_lexer": "ipython3",
   "version": "3.7.4"
  }
 },
 "nbformat": 4,
 "nbformat_minor": 2
}
