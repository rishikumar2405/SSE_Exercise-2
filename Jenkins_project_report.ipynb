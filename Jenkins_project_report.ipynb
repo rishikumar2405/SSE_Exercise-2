{
 "cells": [
  {
   "cell_type": "markdown",
   "metadata": {},
   "source": [
    "\n"
   ]
  },
  {
   "cell_type": "markdown",
   "metadata": {},
   "source": [
    "# Load libraries"
   ]
  },
  {
   "cell_type": "code",
   "execution_count": 2,
   "metadata": {},
   "outputs": [],
   "source": [
    "import numpy as np\n",
    "import re\n",
    "import pandas as pd\n",
    "import os\n",
    "from datetime import datetime\n",
    "\n",
    "# Specify git executable file for GitPython in Jupyter Notebook (In IDE, it can still work without this line.)\n",
    "os.environ[\"GIT_PYTHON_GIT_EXECUTABLE\"] = \"C:\\Program Files\\Git\\cmd\\git.exe\"\n",
    "\n",
    "import git\n",
    "from git import RemoteProgress\n",
    "\n",
    "from git import Repo\n",
    "import matplotlib.pyplot as plt\n",
    "import seaborn as sns\n",
    "%matplotlib inline"
   ]
  },
  {
   "cell_type": "markdown",
   "metadata": {},
   "source": [
    "# Clone repo from GitHub"
   ]
  },
  {
   "cell_type": "markdown",
   "metadata": {},
   "source": [
    "Link: https://git-scm.com/docs/git-clone <br>\n",
    "<b>Note:</b> In case too-long file path issue occurs in Windows, set <code>git config --system core.longpaths true</code>"
   ]
  },
  {
   "cell_type": "code",
   "execution_count": 3,
   "metadata": {},
   "outputs": [],
   "source": [
    "class Progress(RemoteProgress):\n",
    "    def update(self, op_code, cur_count, max_count=None, message=''):\n",
    "        print(self._cur_line)"
   ]
  },
  {
   "cell_type": "code",
   "execution_count": 4,
   "metadata": {},
   "outputs": [],
   "source": [
    "remote_link = \"https://github.com/jenkinsci/jenkins\"\n",
    "local_link = \"C:\\\\Secure Software\\\\jenkins\"\n",
    "# Uncomment to clone\n",
    "# Repo.clone_from(remote_link, local_link, progress=Progress())"
   ]
  },
  {
   "cell_type": "code",
   "execution_count": 5,
   "metadata": {},
   "outputs": [],
   "source": [
    "repo = Repo(local_link)\n",
    "fixing_commit = \"47f38d714c99e1841fb737ad1005618eb26ed852\"\n",
    "affected_file = \"core/src/main/java/jenkins/security/stapler/DoActionFilter.java\""
   ]
  },
  {
   "cell_type": "markdown",
   "metadata": {},
   "source": [
    "# A) Message and Title of the Fixing Commit\n",
    "Link: https://git-scm.com/docs/git-show\n",
    "You can explore different parameters."
   ]
  },
  {
   "cell_type": "code",
   "execution_count": 22,
   "metadata": {
    "scrolled": true
   },
   "outputs": [
    {
     "name": "stdout",
     "output_type": "stream",
     "text": [
      "Message and title of the commit:\n",
      " [SECURITY-595]\n"
     ]
    }
   ],
   "source": [
    "show_data = repo.git.show(\"-s\", fixing_commit).splitlines()\n",
    "show_data.reverse()\n",
    "print(\"Message and title of the commit:\")\n",
    "print(show_data[2])"
   ]
  },
  {
   "cell_type": "markdown",
   "metadata": {},
   "source": [
    "# B) Total Files Affected"
   ]
  },
  {
   "cell_type": "code",
   "execution_count": 7,
   "metadata": {},
   "outputs": [
    {
     "name": "stdout",
     "output_type": "stream",
     "text": [
      "Files Afftected:\n",
      "    Co-Authored-By: Wadeck Follonier <wadeck.follonier@gmail.com>\n",
      "\n",
      " core/pom.xml                                       |   7 +-\n",
      " core/src/main/java/hudson/ProxyConfiguration.java  |   2 +\n",
      " .../main/java/hudson/TcpSlaveAgentListener.java    |   2 +\n",
      " .../hudson/diagnosis/ReverseProxySetupMonitor.java |   2 +\n",
      " core/src/main/java/hudson/model/Computer.java      |   3 +\n",
      " core/src/main/java/hudson/model/ModelObject.java   |   3 +\n",
      " .../src/main/java/hudson/model/ParameterValue.java |   2 +\n",
      " core/src/main/java/hudson/model/Queue.java         |   2 +\n",
      " core/src/main/java/hudson/model/UpdateCenter.java  |   4 +\n",
      " core/src/main/java/hudson/model/View.java          |   2 +\n",
      " .../hudson/security/AuthorizationStrategy.java     |   2 +\n",
      " .../java/hudson/security/csrf/CrumbIssuer.java     |   2 +\n",
      " .../main/java/jenkins/diagnosis/HsErrPidList.java  |   2 +\n",
      " .../main/java/jenkins/install/InstallState.java    |   2 +\n",
      " core/src/main/java/jenkins/model/Jenkins.java      |  19 +\n",
      " .../jenkins/security/stapler/DoActionFilter.java   | 133 ++++\n",
      " .../security/stapler/RoutingDecisionProvider.java  |  38 ++\n",
      " .../stapler/StaplerFilteredActionListener.java     |  76 +++\n",
      " .../stapler/StaticRoutingDecisionProvider.java     | 266 ++++++++\n",
      " .../java/jenkins/security/stapler/TypedFilter.java | 276 ++++++++\n",
      " .../security/stapler/WebMethodConstants.java       | 101 +++\n",
      " .../jenkins/security/stapler/default-whitelist.txt | 177 +++++\n",
      " .../security/stapler/StaplerSignaturesTest.java    | 116 ++++\n",
      " test/pom.xml                                       |   6 +\n",
      " test/src/test/java/hudson/model/ViewTest.java      |  15 +\n",
      " .../java/hudson/util/FormFieldValidatorTest.java   |   2 +-\n",
      " .../stapler/CustomRoutingDecisionProviderTest.java | 114 ++++\n",
      " .../security/stapler/DoActionFilterTest.java       | 738 +++++++++++++++++++++\n",
      " .../java/jenkins/security/stapler/DynamicTest.java |  73 ++\n",
      " .../security/stapler/GetterMethodFilterTest.java   | 500 ++++++++++++++\n",
      " .../stapler/JenkinsSupportAnnotationsTest.java     |  26 +\n",
      " .../security/stapler/PreventRoutingTest.java       | 120 ++++\n",
      " .../jenkins/security/stapler/Security400Test.java  | 609 +++++++++++++++++\n",
      " .../security/stapler/StaplerAbstractTest.java      | 205 ++++++\n",
      " .../stapler/StaplerRoutableActionTest.java         |  90 +++\n",
      " .../security/stapler/StaplerRoutableFieldTest.java | 156 +++++\n",
      " .../stapler/StaplerRoutableGetterTest.java         | 172 +++++\n",
      " .../StaticRoutingDecisionProvider2Test.java        | 236 +++++++\n",
      " .../stapler/StaticRoutingDecisionProviderTest.java | 513 ++++++++++++++\n",
      " .../jenkins/security/stapler/TypedFilterTest.java  | 209 ++++++\n",
      " .../hudson/model/UsageStatisticsTest/jobs.json     |   2 +-\n",
      " .../comment_ignored/stapler-whitelist.txt          |   6 +\n",
      " .../greylist_multiline/stapler-whitelist.txt       |   4 +\n",
      " .../whitelist_empty/stapler-whitelist.txt          |   0\n",
      " .../whitelist_emptyline/stapler-whitelist.txt      |   9 +\n",
      " .../whitelist_monoline/stapler-whitelist.txt       |   1 +\n",
      " .../whitelist_multiline/stapler-whitelist.txt      |   2 +\n",
      " .../resources/plugins/annotations-test-sources.jar | Bin 0 -> 3229 bytes\n",
      " .../test/resources/plugins/annotations-test.hpi    | Bin 0 -> 8809 bytes\n",
      " 49 files changed, 5044 insertions(+), 3 deletions(-)\n"
     ]
    }
   ],
   "source": [
    "total_files_affected = repo.git.show(\"--stat\",fixing_commit).splitlines()\n",
    "print(\"Files Afftected:\")\n",
    "total_files_affected = total_files_affected[6:]\n",
    "for line in total_files_affected:\n",
    "    print(line)"
   ]
  },
  {
   "cell_type": "markdown",
   "metadata": {},
   "source": [
    "# C) Total Directories Affected"
   ]
  },
  {
   "cell_type": "code",
   "execution_count": 8,
   "metadata": {},
   "outputs": [
    {
     "name": "stdout",
     "output_type": "stream",
     "text": [
      "Directories Affected:\n",
      "    Co-Authored-By: Wadeck Follonier <wadeck.follonier@gmail.com>\n",
      "\n",
      "  17.1% core/src/main/java/jenkins/security/stapler/\n",
      "   3.4% core/src/main/resources/jenkins/security/stapler/\n",
      "   3.1% core/src/test/java/jenkins/security/stapler/\n",
      "  68.6% test/src/test/java/jenkins/security/stapler/\n",
      "   5.5% test/src/test/resources/plugins/\n"
     ]
    }
   ],
   "source": [
    "total_directories_affected = repo.git.show(\"--dirstat\",fixing_commit).splitlines()\n",
    "total_directories_affected = total_directories_affected[6:]\n",
    "print(\"Directories Affected:\")\n",
    "for lines in total_directories_affected:\n",
    "    print(lines)"
   ]
  },
  {
   "cell_type": "markdown",
   "metadata": {},
   "source": [
    "# D) Total lines of code (including comments and blank lines) Deleted"
   ]
  },
  {
   "cell_type": "code",
   "execution_count": 24,
   "metadata": {},
   "outputs": [
    {
     "name": "stdout",
     "output_type": "stream",
     "text": [
      "Total lines of code deleted(including comments and blank lines): 3\n"
     ]
    }
   ],
   "source": [
    "lines_del_inc_comm = repo.git.show(\"--shortstat\",fixing_commit).splitlines()\n",
    "lines_del_inc_comm.reverse()\n",
    "lines_del_inc_comm = lines_del_inc_comm[0].split(',')\n",
    "lines_del_inc_comm = lines_del_inc_comm[2].split(\" \")\n",
    "print(\"Total lines of code deleted(including comments and blank lines): \"+lines_del_inc_comm[1])"
   ]
  },
  {
   "cell_type": "markdown",
   "metadata": {},
   "source": [
    "# E) Total lines of code (including comments and blank lines) Added"
   ]
  },
  {
   "cell_type": "code",
   "execution_count": 23,
   "metadata": {},
   "outputs": [
    {
     "name": "stdout",
     "output_type": "stream",
     "text": [
      "Total lines of code Added(including comments and blank lines): 5044\n"
     ]
    }
   ],
   "source": [
    "lines_add_inc_comm = repo.git.show(\"--shortstat\",fixing_commit).splitlines()\n",
    "lines_add_inc_comm.reverse()\n",
    "lines_add_inc_comm = lines_add_inc_comm[0].split(',')\n",
    "lines_add_inc_comm = lines_add_inc_comm[1].split(\" \")\n",
    "print(\"Total lines of code Added(including comments and blank lines): \"+lines_add_inc_comm[1])"
   ]
  },
  {
   "cell_type": "markdown",
   "metadata": {},
   "source": [
    "# F) Total lines of code (excluding comments and blank lines) Deleted"
   ]
  },
  {
   "cell_type": "code",
   "execution_count": 25,
   "metadata": {},
   "outputs": [
    {
     "name": "stdout",
     "output_type": "stream",
     "text": [
      "Total line of code(excluding comments and blank lines) Deleted:2\n"
     ]
    }
   ],
   "source": [
    "lines_del_exc_comm = repo.git.show(\"-U0\",\"--pretty=\"\"\",fixing_commit).splitlines()\n",
    "lines_added = []\n",
    "tot = 0\n",
    "for line in lines_del_exc_comm:\n",
    "    if re.search(\"^\\-\",line):\n",
    "        l = line.split(\" \")\n",
    "        if(len(l)>1):\n",
    "            if(len(l[0]) == 1):\n",
    "                if(l[1][:1] != '*' or l[1][:1] != '/'):\n",
    "                    tot += 1\n",
    "print(\"Total line of code(excluding comments and blank lines) Deleted:\" + str(tot))"
   ]
  },
  {
   "cell_type": "markdown",
   "metadata": {},
   "source": [
    "# G) Total lines of code (excluding comments and blank lines) Added"
   ]
  },
  {
   "cell_type": "code",
   "execution_count": 26,
   "metadata": {},
   "outputs": [
    {
     "name": "stdout",
     "output_type": "stream",
     "text": [
      "Total line of code(excluding comments and blank lines) Added:4198\n"
     ]
    }
   ],
   "source": [
    "lines_add_exc_comm = repo.git.show(\"-U0\",\"--pretty=\"\"\",fixing_commit).splitlines()\n",
    "lines_added = []\n",
    "tot = 0\n",
    "for line in lines_add_exc_comm:\n",
    "    if re.search(\"^\\+\",line):\n",
    "        l = line.split(\" \")\n",
    "        if(len(l)>1):\n",
    "            if(len(l[0]) == 1):\n",
    "                if(l[1][:1] != '*' or l[1][:1] != '/'):\n",
    "                    tot += 1\n",
    "print(\"Total line of code(excluding comments and blank lines) Added:\" + str(tot))\n"
   ]
  },
  {
   "cell_type": "markdown",
   "metadata": {},
   "source": [
    "# H) Days between the current fixing commit and the previous commit"
   ]
  },
  {
   "cell_type": "code",
   "execution_count": 21,
   "metadata": {},
   "outputs": [
    {
     "name": "stdout",
     "output_type": "stream",
     "text": [
      "0 Days\n"
     ]
    }
   ],
   "source": [
    "days = repo.git.log(\"--format=%cd\",fixing_commit,\"--\",affected_file,\"-2\").splitlines()\n",
    "list_size = len(days)\n",
    "if list_size<2:\n",
    "    print(\"0 Days\")\n",
    "else:\n",
    "    last_commit_date = datetime.strptime(days[0],\"%a %b %d %X %Y %z\")\n",
    "    last_prev_commit_date = datetime.strptime(days[1],\"%a %b %d %X %Y %z\")\n",
    "    date_diff = (abs(last_commit_date-last_prev_commit_date))\n",
    "    print(\"No of days:\" + str(date_diff))"
   ]
  },
  {
   "cell_type": "markdown",
   "metadata": {},
   "source": [
    "# I) No of times each affected file of the current fixing commit been modified in the past since their creation"
   ]
  },
  {
   "cell_type": "code",
   "execution_count": 13,
   "metadata": {},
   "outputs": [
    {
     "name": "stdout",
     "output_type": "stream",
     "text": [
      "No of times each affected file of the current fixing commit been modified in the past since their creation:1\n"
     ]
    }
   ],
   "source": [
    "no_of_times = repo.git.log(\"--follow\",\"--format=%h\",fixing_commit,\"--\",affected_file).splitlines()\n",
    "length = len(no_of_times)\n",
    "print(\"No of times each affected file of the current fixing commit been modified in the past since their creation:\"+ str(length))"
   ]
  },
  {
   "cell_type": "markdown",
   "metadata": {},
   "source": [
    "# J) Developers who has modified each affected file since its creation"
   ]
  },
  {
   "cell_type": "code",
   "execution_count": 14,
   "metadata": {},
   "outputs": [
    {
     "name": "stdout",
     "output_type": "stream",
     "text": [
      "List of Developers:\n",
      "Daniel Beck\n"
     ]
    }
   ],
   "source": [
    "no_of_times = repo.git.log(\"--format=%an\",fixing_commit,\"--\",affected_file).splitlines()\n",
    "s = set(no_of_times)\n",
    "print(\"List of Developers:\")\n",
    "for line in s:\n",
    "    print(line)"
   ]
  },
  {
   "cell_type": "markdown",
   "metadata": {},
   "source": [
    "# K) Commits of each Developer"
   ]
  },
  {
   "cell_type": "code",
   "execution_count": 15,
   "metadata": {},
   "outputs": [],
   "source": [
    "commit_authors = repo.git.shortlog(\"-sn\", \"--all\").splitlines()\n",
    "author_commits = []\n",
    "\n",
    "for commit_author in commit_authors:\n",
    "    commit, author = commit_author.split(\"\\t\")\n",
    "    for authors in s:\n",
    "        if(authors==author):\n",
    "            author_commits.append((int(commit), authors))"
   ]
  },
  {
   "cell_type": "code",
   "execution_count": 16,
   "metadata": {},
   "outputs": [],
   "source": [
    "df = pd.DataFrame(author_commits, columns=['Commit','Author'])"
   ]
  },
  {
   "cell_type": "code",
   "execution_count": 17,
   "metadata": {},
   "outputs": [
    {
     "data": {
      "text/html": [
       "<div>\n",
       "<style scoped>\n",
       "    .dataframe tbody tr th:only-of-type {\n",
       "        vertical-align: middle;\n",
       "    }\n",
       "\n",
       "    .dataframe tbody tr th {\n",
       "        vertical-align: top;\n",
       "    }\n",
       "\n",
       "    .dataframe thead th {\n",
       "        text-align: right;\n",
       "    }\n",
       "</style>\n",
       "<table border=\"1\" class=\"dataframe\">\n",
       "  <thead>\n",
       "    <tr style=\"text-align: right;\">\n",
       "      <th></th>\n",
       "      <th>Commit</th>\n",
       "      <th>Author</th>\n",
       "    </tr>\n",
       "  </thead>\n",
       "  <tbody>\n",
       "    <tr>\n",
       "      <td>0</td>\n",
       "      <td>1210</td>\n",
       "      <td>Daniel Beck</td>\n",
       "    </tr>\n",
       "  </tbody>\n",
       "</table>\n",
       "</div>"
      ],
      "text/plain": [
       "   Commit       Author\n",
       "0    1210  Daniel Beck"
      ]
     },
     "execution_count": 17,
     "metadata": {},
     "output_type": "execute_result"
    }
   ],
   "source": [
    "df.head()"
   ]
  }
 ],
 "metadata": {
  "kernelspec": {
   "display_name": "Python 3",
   "language": "python",
   "name": "python3"
  },
  "language_info": {
   "codemirror_mode": {
    "name": "ipython",
    "version": 3
   },
   "file_extension": ".py",
   "mimetype": "text/x-python",
   "name": "python",
   "nbconvert_exporter": "python",
   "pygments_lexer": "ipython3",
   "version": "3.7.4"
  }
 },
 "nbformat": 4,
 "nbformat_minor": 2
}
